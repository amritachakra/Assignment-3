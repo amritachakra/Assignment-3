{
 "cells": [
  {
   "cell_type": "raw",
   "metadata": {},
   "source": [
    "Q1) Why are functions advantageous to have in your programs?\n",
    "\n",
    "Answer -\n",
    "Functions reduce the need for duplicate code. This makes programs shorter, easier to read, and easier to update."
   ]
  },
  {
   "cell_type": "markdown",
   "metadata": {},
   "source": [
    "Q2) When does the code in a function run: when it's specified or when it's called?\n",
    "\n",
    "Answer -\n",
    "The code in a function executes when the function is called, not when the function is defined."
   ]
  },
  {
   "cell_type": "raw",
   "metadata": {},
   "source": [
    "Q3)What statement creates a function?\n",
    "\n",
    "Answer -\n",
    "The def statement defines, i.e. creates a function."
   ]
  },
  {
   "cell_type": "markdown",
   "metadata": {},
   "source": [
    "Q4) What is the difference between a function and a function call?\n",
    "\n",
    "Answer -\n",
    "A function consists of the def statement and the code in its def clause. A function call is what moves the program execution into the function, and the function call evaluates to the function's return value."
   ]
  },
  {
   "cell_type": "markdown",
   "metadata": {},
   "source": [
    "Q5) How many global scopes are there in a Python program? How many local scopes?\n",
    "\n",
    "Answer -\n",
    "There is one global scope, and a local scope is created whenever a function is called."
   ]
  },
  {
   "cell_type": "raw",
   "metadata": {},
   "source": [
    "Q6) What happens to variables in a local scope when the function call returns?\n",
    "\n",
    "Answer -\n",
    "When a function returns, the local scope is destroyed, and all the variables in it are forgotten."
   ]
  },
  {
   "cell_type": "raw",
   "metadata": {},
   "source": [
    "Q7) What is the concept of a return value? Is it possible to have a return value in an expression?\n",
    "\n",
    "Answer -\n",
    "A return value is the value that a function call evaluates to. Like any value, a return value can be used as part of an expression."
   ]
  },
  {
   "cell_type": "raw",
   "metadata": {},
   "source": [
    "Q8)If a function does not have a return statement, what is the return value of a call to that function?\n",
    "\n",
    "Answer -\n",
    "If there is no return statement for a function, its return value is None. "
   ]
  },
  {
   "cell_type": "raw",
   "metadata": {},
   "source": [
    "Q9) How do you make a function variable refer to the global variable?\n",
    "\n",
    "Answer -\n",
    "A global statement will force a variable in a function to refer to the global variable."
   ]
  },
  {
   "cell_type": "raw",
   "metadata": {},
   "source": [
    "Q10) What is the data type of None?\n",
    "\n",
    "Answer -\n",
    "The data type of None is NoneType."
   ]
  },
  {
   "cell_type": "raw",
   "metadata": {},
   "source": [
    "Q11) What does the sentence import areallyourpetsnamederic do?\n",
    "\n",
    "Answer -\n",
    "That import statement imports a module named areallyourpetsnamederic."
   ]
  },
  {
   "cell_type": "raw",
   "metadata": {},
   "source": [
    "Q12) If you had a bacon() feature in a spam module, what would you call it after importing spam?\n",
    "\n",
    "Answer -\n",
    "This function can be called with spam.bacon()."
   ]
  },
  {
   "cell_type": "raw",
   "metadata": {},
   "source": [
    "Q13) What can you do to save a programme from crashing if it encounters an error?\n",
    "\n",
    "Answer -\n",
    "Place the line of code that might cause an error in a try clause."
   ]
  },
  {
   "cell_type": "raw",
   "metadata": {},
   "source": [
    "Q14) What is the purpose of the try clause? What is the purpose of the except clause?\n",
    "\n",
    "Answer -\n",
    "The code that could potentially cause an error goes in the try clause.\n",
    "-The code that executes if an error happens goes in the except clause."
   ]
  }
 ],
 "metadata": {
  "kernelspec": {
   "display_name": "Python 3",
   "language": "python",
   "name": "python3"
  },
  "language_info": {
   "codemirror_mode": {
    "name": "ipython",
    "version": 3
   },
   "file_extension": ".py",
   "mimetype": "text/x-python",
   "name": "python",
   "nbconvert_exporter": "python",
   "pygments_lexer": "ipython3",
   "version": "3.6.5"
  }
 },
 "nbformat": 4,
 "nbformat_minor": 2
}
